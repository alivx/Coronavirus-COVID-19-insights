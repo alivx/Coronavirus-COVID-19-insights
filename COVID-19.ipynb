{
 "cells": [
  {
   "cell_type": "code",
   "execution_count": 39,
   "metadata": {},
   "outputs": [],
   "source": [
    "import pandas as pd\n",
    "from pandasql import sqldf\n",
    "from sqlalchemy import create_engine\n"
   ]
  },
  {
   "cell_type": "code",
   "execution_count": 40,
   "metadata": {},
   "outputs": [],
   "source": [
    "#Pandas Setting\n",
    "pd.set_option('display.max_columns', None)  # or 1000\n",
    "pd.set_option('display.max_rows', None)  # or 1000\n",
    "pd.set_option('display.max_colwidth', -1)  # or 199\n",
    "pd.set_option('display.max_columns', 1000)\n",
    "pd.options.display.max_colwidth = 1000\n",
    "pd.set_option('display.expand_frame_repr', False)\n",
    "# pandas_bokeh.output_notebook()\n",
    "# pandas_bokeh.output_file(\"InteractivePlot.html\")\n",
    "# pd.set_option('plotting.backend', 'pandas_bokeh')\n",
    "disk_engine = create_engine('sqlite:///COVID-19.db')\n"
   ]
  },
  {
   "cell_type": "code",
   "execution_count": 41,
   "metadata": {},
   "outputs": [],
   "source": [
    "#Load Data\n",
    "countries_aggregated = pd.read_csv(\"data/countries-aggregated.csv\", delimiter=',',keep_default_na=False)\n",
    "time_series_19_covid_combined = pd.read_csv(\"data/time-series-19-covid-combined.csv\", delimiter=',',keep_default_na=False)\n",
    "world_population_2019 = pd.read_csv(\"data/world_population_2019.csv\", delimiter=',',keep_default_na=False)"
   ]
  },
  {
   "cell_type": "code",
   "execution_count": 42,
   "metadata": {},
   "outputs": [],
   "source": [
    "dataset1 = pd.merge(time_series_19_covid_combined, world_population_2019, left_on='Country/Region',right_on='Location', how='left')\n"
   ]
  },
  {
   "cell_type": "code",
   "execution_count": 43,
   "metadata": {},
   "outputs": [],
   "source": [
    "dataset2= dataset1[[\"Date\",'Country/Region','Province/State',\"Lat\",\"Long\",\"Confirmed\",\"Recovered\",\"Deaths\",\"PopMale\",\"PopFemale\",\"PopTotal\"]]"
   ]
  },
  {
   "cell_type": "code",
   "execution_count": 44,
   "metadata": {},
   "outputs": [
    {
     "name": "stderr",
     "output_type": "stream",
     "text": [
      "/home/ali/anaconda3/lib/python3.7/site-packages/ipykernel_launcher.py:1: SettingWithCopyWarning: \n",
      "A value is trying to be set on a copy of a slice from a DataFrame.\n",
      "Try using .loc[row_indexer,col_indexer] = value instead\n",
      "\n",
      "See the caveats in the documentation: http://pandas.pydata.org/pandas-docs/stable/user_guide/indexing.html#returning-a-view-versus-a-copy\n",
      "  \"\"\"Entry point for launching an IPython kernel.\n"
     ]
    }
   ],
   "source": [
    "dataset2['Country']= dataset2[['Country/Region','Province/State']].apply(lambda x : '{} - {}'.format(x[0],x[1]), axis=1)"
   ]
  },
  {
   "cell_type": "code",
   "execution_count": 45,
   "metadata": {},
   "outputs": [],
   "source": [
    "dataSet = dataset2[[\"Date\",\"Country\",\"Lat\",\"Long\",\"Confirmed\",\"Recovered\",\"Deaths\",\"PopMale\",\"PopFemale\",\"PopTotal\"]]\n",
    "del dataset2 \n",
    "del dataset1"
   ]
  },
  {
   "cell_type": "code",
   "execution_count": 46,
   "metadata": {},
   "outputs": [
    {
     "data": {
      "text/html": [
       "<div>\n",
       "<style scoped>\n",
       "    .dataframe tbody tr th:only-of-type {\n",
       "        vertical-align: middle;\n",
       "    }\n",
       "\n",
       "    .dataframe tbody tr th {\n",
       "        vertical-align: top;\n",
       "    }\n",
       "\n",
       "    .dataframe thead th {\n",
       "        text-align: right;\n",
       "    }\n",
       "</style>\n",
       "<table border=\"1\" class=\"dataframe\">\n",
       "  <thead>\n",
       "    <tr style=\"text-align: right;\">\n",
       "      <th></th>\n",
       "      <th>Date</th>\n",
       "      <th>Country</th>\n",
       "      <th>Lat</th>\n",
       "      <th>Long</th>\n",
       "      <th>Confirmed</th>\n",
       "      <th>Recovered</th>\n",
       "      <th>Deaths</th>\n",
       "      <th>PopMale</th>\n",
       "      <th>PopFemale</th>\n",
       "      <th>PopTotal</th>\n",
       "    </tr>\n",
       "  </thead>\n",
       "  <tbody>\n",
       "    <tr>\n",
       "      <td>0</td>\n",
       "      <td>2020-01-22</td>\n",
       "      <td>Afghanistan -</td>\n",
       "      <td>33.0</td>\n",
       "      <td>65.0</td>\n",
       "      <td>0</td>\n",
       "      <td>0</td>\n",
       "      <td>0</td>\n",
       "      <td>19529.727</td>\n",
       "      <td>18512.03</td>\n",
       "      <td>38041.757</td>\n",
       "    </tr>\n",
       "    <tr>\n",
       "      <td>1</td>\n",
       "      <td>2020-01-23</td>\n",
       "      <td>Afghanistan -</td>\n",
       "      <td>33.0</td>\n",
       "      <td>65.0</td>\n",
       "      <td>0</td>\n",
       "      <td>0</td>\n",
       "      <td>0</td>\n",
       "      <td>19529.727</td>\n",
       "      <td>18512.03</td>\n",
       "      <td>38041.757</td>\n",
       "    </tr>\n",
       "    <tr>\n",
       "      <td>2</td>\n",
       "      <td>2020-01-24</td>\n",
       "      <td>Afghanistan -</td>\n",
       "      <td>33.0</td>\n",
       "      <td>65.0</td>\n",
       "      <td>0</td>\n",
       "      <td>0</td>\n",
       "      <td>0</td>\n",
       "      <td>19529.727</td>\n",
       "      <td>18512.03</td>\n",
       "      <td>38041.757</td>\n",
       "    </tr>\n",
       "    <tr>\n",
       "      <td>3</td>\n",
       "      <td>2020-01-25</td>\n",
       "      <td>Afghanistan -</td>\n",
       "      <td>33.0</td>\n",
       "      <td>65.0</td>\n",
       "      <td>0</td>\n",
       "      <td>0</td>\n",
       "      <td>0</td>\n",
       "      <td>19529.727</td>\n",
       "      <td>18512.03</td>\n",
       "      <td>38041.757</td>\n",
       "    </tr>\n",
       "    <tr>\n",
       "      <td>4</td>\n",
       "      <td>2020-01-26</td>\n",
       "      <td>Afghanistan -</td>\n",
       "      <td>33.0</td>\n",
       "      <td>65.0</td>\n",
       "      <td>0</td>\n",
       "      <td>0</td>\n",
       "      <td>0</td>\n",
       "      <td>19529.727</td>\n",
       "      <td>18512.03</td>\n",
       "      <td>38041.757</td>\n",
       "    </tr>\n",
       "  </tbody>\n",
       "</table>\n",
       "</div>"
      ],
      "text/plain": [
       "         Date         Country   Lat  Long  Confirmed Recovered  Deaths    PopMale PopFemale   PopTotal\n",
       "0  2020-01-22  Afghanistan -   33.0  65.0          0         0       0  19529.727  18512.03  38041.757\n",
       "1  2020-01-23  Afghanistan -   33.0  65.0          0         0       0  19529.727  18512.03  38041.757\n",
       "2  2020-01-24  Afghanistan -   33.0  65.0          0         0       0  19529.727  18512.03  38041.757\n",
       "3  2020-01-25  Afghanistan -   33.0  65.0          0         0       0  19529.727  18512.03  38041.757\n",
       "4  2020-01-26  Afghanistan -   33.0  65.0          0         0       0  19529.727  18512.03  38041.757"
      ]
     },
     "execution_count": 46,
     "metadata": {},
     "output_type": "execute_result"
    }
   ],
   "source": [
    "dataSet.head()"
   ]
  },
  {
   "cell_type": "code",
   "execution_count": 47,
   "metadata": {},
   "outputs": [],
   "source": [
    "#Save data into sqlite3\n",
    "dataSet.to_sql('covid019', disk_engine, if_exists='append')\n",
    "#Save data into excel\n",
    "dataSet.to_excel(\"covid019.xlsx\")\n",
    "#Save data into csv\n",
    "dataSet.to_csv(\"covid019.csv\")"
   ]
  },
  {
   "cell_type": "code",
   "execution_count": 35,
   "metadata": {},
   "outputs": [],
   "source": []
  },
  {
   "cell_type": "code",
   "execution_count": 37,
   "metadata": {},
   "outputs": [],
   "source": []
  },
  {
   "cell_type": "code",
   "execution_count": null,
   "metadata": {},
   "outputs": [],
   "source": []
  }
 ],
 "metadata": {
  "kernelspec": {
   "display_name": "Python 3",
   "language": "python",
   "name": "python3"
  },
  "language_info": {
   "codemirror_mode": {
    "name": "ipython",
    "version": 3
   },
   "file_extension": ".py",
   "mimetype": "text/x-python",
   "name": "python",
   "nbconvert_exporter": "python",
   "pygments_lexer": "ipython3",
   "version": "3.7.4"
  }
 },
 "nbformat": 4,
 "nbformat_minor": 2
}
